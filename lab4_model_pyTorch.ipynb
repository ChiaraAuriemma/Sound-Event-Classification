{
  "cells": [
    {
      "cell_type": "markdown",
      "metadata": {
        "id": "QRSb4e0MBD0d"
      },
      "source": [
        "**Lab 4** for the course of *Selected Topics in Music and Acoustic Engineering* :\n",
        "\n",
        "***Machine Learning for Audio and Acoustic Engineering***\n",
        "---\n",
        "\n",
        "Implementation on PyTorch\n",
        "\n",
        "\n",
        "# **Lab 4: Neural Networks (II)**\n",
        "---"
      ]
    },
    {
      "cell_type": "markdown",
      "metadata": {
        "id": "S8kmdIHGSOO_"
      },
      "source": [
        "In this lab we will continue exploring different types of deep architectures for audio processing, and we will pay special attention to system evaluation.\n"
      ]
    },
    {
      "cell_type": "code",
      "execution_count": 28,
      "metadata": {
        "id": "G6U5xvhLUsTJ"
      },
      "outputs": [],
      "source": [
        "# As always, we import the relevant packages\n",
        "import os\n",
        "import numpy as np\n",
        "import matplotlib.pyplot as plt\n",
        "import torch\n",
        "import torch.nn as nn           # it contains the neural network modules\n",
        "import torch.nn.functional as F # it contains the activation functions\n",
        "from torch.utils.data import Dataset, DataLoader\n",
        "import pandas as pd\n",
        "import librosa\n",
        "from tqdm import tqdm\n",
        "from pathlib import Path\n",
        "from sklearn.model_selection import train_test_split\n",
        "from sklearn.metrics import confusion_matrix, ConfusionMatrixDisplay"
      ]
    },
    {
      "cell_type": "markdown",
      "metadata": {},
      "source": [
        "## Device Selection"
      ]
    },
    {
      "cell_type": "code",
      "execution_count": 29,
      "metadata": {},
      "outputs": [],
      "source": [
        "device = torch.device(\"cuda:0\" if torch.cuda.is_available() else \"cpu\") # windows\n",
        "device = torch.device(\"mps\" if torch.backends.mps.is_available() else \"cpu\") # macOS"
      ]
    },
    {
      "cell_type": "markdown",
      "metadata": {},
      "source": [
        "Device Check:"
      ]
    },
    {
      "cell_type": "code",
      "execution_count": 30,
      "metadata": {},
      "outputs": [
        {
          "data": {
            "text/plain": [
              "device(type='mps')"
            ]
          },
          "execution_count": 30,
          "metadata": {},
          "output_type": "execute_result"
        }
      ],
      "source": [
        "device"
      ]
    },
    {
      "cell_type": "markdown",
      "metadata": {
        "id": "ZhMvCfOxT1vq"
      },
      "source": [
        "### **Exercise 1**: Data Preparation I\n",
        "\n",
        "We will continue working with the ESC-50 dataset. Download it to your notebook following the same steps as in Lab 2 and Lab 3."
      ]
    },
    {
      "cell_type": "markdown",
      "metadata": {
        "id": "a6bPjK6OVeNs"
      },
      "source": [
        "Create a list containing the audio files and another one with the corresponding labels (as in Lab 3):"
      ]
    },
    {
      "cell_type": "code",
      "execution_count": 31,
      "metadata": {
        "id": "DyYxVH6VUO4W"
      },
      "outputs": [],
      "source": [
        "fn_csv = '/Users/filippo/Library/CloudStorage/OneDrive-PolitecnicodiMilano/Corsi/Selected Topics in Music and Acoustic Engineering/Git/Sound-Event-Classification/ESC-50-master/meta/esc50.csv'\n",
        "\n",
        "files = []  # File list\n",
        "labels = []  # Class list\n",
        "\n",
        "df = pd.read_csv(fn_csv)\n",
        "\n",
        "#unique class labels\n",
        "unique_classes = df['category'].unique()"
      ]
    },
    {
      "cell_type": "markdown",
      "metadata": {
        "id": "ATIutRkfUo-k"
      },
      "source": [
        "Instead of working with 50 classes, we limit our dataset to only 10 classes. Filter you two files (the one with file paths and the one with labels) to contain only those belonging to classes [0-9]."
      ]
    },
    {
      "cell_type": "code",
      "execution_count": 32,
      "metadata": {
        "colab": {
          "base_uri": "https://localhost:8080/"
        },
        "id": "oMwVmhVqUdCa",
        "outputId": "687473f9-12cd-4bb3-dee9-01c0972c6ed1"
      },
      "outputs": [
        {
          "name": "stdout",
          "output_type": "stream",
          "text": [
            "First 10 classes: ['dog' 'chirping_birds' 'vacuum_cleaner' 'thunderstorm' 'door_wood_knock'\n",
            " 'can_opening' 'crow' 'clapping' 'fireworks' 'chainsaw']\n"
          ]
        }
      ],
      "source": [
        "# 10 first classes\n",
        "our_classes = unique_classes[0:10]\n",
        "print(\"First 10 classes:\", our_classes)\n",
        "\n",
        "# Filter the dataset to only include the selected classes\n",
        "filtered_df = df.query('category in @our_classes')\n",
        "\n",
        "files = filtered_df['filename'].values\n",
        "labels = filtered_df['category'].values"
      ]
    },
    {
      "cell_type": "markdown",
      "metadata": {
        "id": "gvbyUM8nU_fv"
      },
      "source": [
        "We load the signals and get the Mel spectrogram for each signal. Create a list called \"signals\" storing the raw waveforms of each file in your list and another one called \"melspecs\" that stores the Mel spectrogram for each signal.\n",
        "\n",
        "Note: use the default parameters for librosa.load (resample to 22050Hz) and librosa.feature.melspectrogram."
      ]
    },
    {
      "cell_type": "code",
      "execution_count": 33,
      "metadata": {
        "colab": {
          "base_uri": "https://localhost:8080/"
        },
        "id": "743iyIr3U7wy",
        "outputId": "b974d86c-3734-47f4-e32d-8f9dbc3bb383"
      },
      "outputs": [
        {
          "name": "stdout",
          "output_type": "stream",
          "text": [
            "Sample rate: 22050 Hz\n"
          ]
        }
      ],
      "source": [
        "path = '/Users/filippo/Library/CloudStorage/OneDrive-PolitecnicodiMilano/Corsi/Selected Topics in Music and Acoustic Engineering/Git/Sound-Event-Classification/ESC-50-master/audio/'\n",
        "signals = list(librosa.load(path + file)[0] for file in files)\n",
        "\n",
        "signal1, sr = librosa.load(path + '1-100032-A-0.wav')\n",
        "print(f\"Sample rate:\", sr, \"Hz\")\n",
        "\n",
        "melspecs = list(librosa.feature.melspectrogram(y=signal, sr=sr) for signal in signals)"
      ]
    },
    {
      "cell_type": "markdown",
      "metadata": {
        "id": "ASOMPEK5XI8-"
      },
      "source": [
        "### **Exercise 2**: Data preparation II\n",
        "\n"
      ]
    },
    {
      "cell_type": "markdown",
      "metadata": {
        "id": "j11Q0Q9lXpqu"
      },
      "source": [
        "Convert your \"melspecs\" and \"labels\" list to numpy arrays, called \"Xdata\" and \"Ydata\".\n",
        "Check that the result has size (400, 128, 216) for Xdata and (400,) for Ydata."
      ]
    },
    {
      "cell_type": "code",
      "execution_count": 34,
      "metadata": {
        "colab": {
          "base_uri": "https://localhost:8080/"
        },
        "id": "Q6AFgQCCXzdk",
        "outputId": "c33cd637-aea0-4525-9697-d88ed3d38f78"
      },
      "outputs": [
        {
          "name": "stdout",
          "output_type": "stream",
          "text": [
            "Xdata shape: (400, 128, 216) \n",
            "Yata shape: (400,)\n"
          ]
        }
      ],
      "source": [
        "Xdata = np.asarray(melspecs)\n",
        "\n",
        "# Transform the labels to numbers\n",
        "label_mapping = {label: idx for idx, label in enumerate(dict.fromkeys(labels))}\n",
        "numerical_labels = np.array([label_mapping[label] for label in labels])\n",
        "\n",
        "Ydata = np.asarray(numerical_labels)\n",
        "\n",
        "print('Xdata shape: {} \\nYata shape: {}'.format(Xdata.shape, Ydata.shape))"
      ]
    },
    {
      "cell_type": "markdown",
      "metadata": {
        "id": "kJGWNAGrSwYU"
      },
      "source": [
        "Check that Ydata is balanced by plotting the histogram."
      ]
    },
    {
      "cell_type": "code",
      "execution_count": 35,
      "metadata": {
        "colab": {
          "base_uri": "https://localhost:8080/",
          "height": 389
        },
        "id": "CIJcy2KSSwYU",
        "outputId": "bde5958d-5c2a-40d0-b835-aeaf2ffb6de2"
      },
      "outputs": [
        {
          "data": {
            "image/png": "[encoded data removed]",
            "text/plain": [
              "<Figure size 1000x400 with 1 Axes>"
            ]
          },
          "metadata": {},
          "output_type": "display_data"
        }
      ],
      "source": [
        "plt.figure(figsize=(10, 4))\n",
        "plt.title(\"Number of samples per class\")\n",
        "plt.hist(labels, bins=10,edgecolor='black')\n",
        "plt.show()"
      ]
    },
    {
      "cell_type": "markdown",
      "metadata": {
        "id": "QvB-50z4tFqP"
      },
      "source": [
        "As we can see from the histogram, we have exactly the same number of element for each class."
      ]
    },
    {
      "cell_type": "markdown",
      "metadata": {
        "id": "HgJiKJgoYGtJ"
      },
      "source": [
        "Split your dataset into 3 partitions, 1 for training (70%), 1 for validation (20%) and 1 for test (10%). Check that the resulting arrays have the correct shape:"
      ]
    },
    {
      "cell_type": "code",
      "execution_count": 36,
      "metadata": {
        "colab": {
          "base_uri": "https://localhost:8080/"
        },
        "id": "qAVIvFHakAf1",
        "outputId": "2fc7ab43-3d5e-495d-9da5-c562864d507f"
      },
      "outputs": [
        {
          "name": "stdout",
          "output_type": "stream",
          "text": [
            "X_train shape: (280, 128, 216) \n",
            "X_val shape: (80, 128, 216) \n",
            "X_test shape: (40, 128, 216) \n",
            "y_train shape: (280,) \n",
            "y_val shape: (80,) \n",
            "y_test shape: (40,) \n",
            "\n",
            "X_train_rs shape: (280, 216, 128) \n",
            "X_val_rs shape: (80, 216, 128) \n",
            "X_test_rs shape: (40, 216, 128)\n",
            "Original size X_train_rs.shape= (280, 216, 128) ; X_val_rs.shape= (80, 216, 128) ; X_test_rs.shape= (40, 216, 128)\n",
            "New size X_train_rss.shape=X_train_rss.shape (280, 216, 1, 128) ; X_val_rss.shape= (80, 216, 1, 128) ; X_test_rss.shape= (40, 216, 1, 128)\n"
          ]
        }
      ],
      "source": [
        "seed = 42 # We set a seed for reproducibility\n",
        "\n",
        "X_train, X_temp, y_train, y_temp = train_test_split(Xdata, Ydata, train_size=0.7, random_state=seed, stratify=Ydata) #we use stratify to keep the same distribution of classes in the training set\n",
        "\n",
        "X_val, X_test, y_val, y_test = train_test_split(X_temp, y_temp, test_size=1/3, random_state=seed, stratify=y_temp)  #we use stratify to keep the same distribution of classes in the validation and test sets\n",
        "print('X_train shape: {} \\nX_val shape: {} \\nX_test shape: {} \\ny_train shape: {} \\ny_val shape: {} \\ny_test shape: {} \\n'.format(X_train.shape, X_val.shape, X_test.shape, y_train.shape, y_val.shape, y_test.shape))\n",
        "\n",
        "X_train_rs = np.moveaxis(X_train, 1, -1)\n",
        "X_val_rs = np.moveaxis(X_val, 1, -1)\n",
        "X_test_rs = np.moveaxis(X_test, 1, -1)\n",
        "\n",
        "print('X_train_rs shape: {} \\nX_val_rs shape: {} \\nX_test_rs shape: {}'.format(X_train_rs.shape, X_val_rs.shape, X_test_rs.shape))\n",
        "\n",
        "X_train_rss_swapped = np.expand_dims(X_train_rs, -1)\n",
        "X_val_rss_swapped = np.expand_dims(X_val_rs, -1)\n",
        "X_test_rss_swapped = np.expand_dims(X_test_rs, -1)\n",
        "\n",
        "X_train_rss = np.swapaxes(X_train_rss_swapped, -2, -1)\n",
        "X_val_rss = np.swapaxes(X_val_rss_swapped, -2, -1)\n",
        "X_test_rss = np.swapaxes(X_test_rss_swapped, -2, -1)\n",
        "\n",
        "print(f'Original size X_train_rs.shape=', X_train_rs.shape, '; X_val_rs.shape=', X_val_rs.shape, '; X_test_rs.shape=', X_test_rs.shape)\n",
        "print(f'New size X_train_rss.shape=X_train_rss.shape', X_train_rss.shape, '; X_val_rss.shape=', X_val_rss.shape, '; X_test_rss.shape=', X_test_rss.shape)\n"
      ]
    },
    {
      "cell_type": "markdown",
      "metadata": {
        "id": "UCKNh-OsSwYV"
      },
      "source": [
        "Expected output:\n",
        "```\n",
        "X_train shape: (280, 128, 216)\n",
        "X_val shape: (80, 128, 216)\n",
        "X_test shape: (40, 128, 216)\n",
        "y_train shape: (280,)\n",
        "y_val shape: (80,)\n",
        "y_test shape: (40,)\n",
        "```"
      ]
    },
    {
      "cell_type": "markdown",
      "metadata": {
        "id": "t9SCglqbdMUW"
      },
      "source": [
        "In the next exercise we will create a time-distributed 1D-CNN to process our dataset. By default, Keras assumes that the last dimension corresponds to the number of channels in our input. Since we are going to use 1D-CNN, each frequency band will be processed as an independent frequency channel. Therefore, we need to reorder the dimensions in our data to move the frequency channels to the last dimension.\n",
        "\n",
        "Use the numpy function \"moveaxis\" to create the data matrices X_train_rs, X_val_rs and X_test_rs, with dimensions (280, 216, 128), (80, 216, 128) and (40, 216, 128):"
      ]
    },
    {
      "cell_type": "markdown",
      "metadata": {
        "id": "7RKqHdABSwYX"
      },
      "source": [
        "Expected output:\n",
        "```\n",
        "X_train_rs shape: (280, 216, 128)\n",
        "X_val_rs shape: (80, 216, 128)\n",
        "X_test_rs shape: (40, 216, 128)\n",
        "```"
      ]
    },
    {
      "cell_type": "markdown",
      "metadata": {
        "id": "PVLpq0p9Elcc"
      },
      "source": [
        "### **Exercise 7**: Hybrid CNN-RNN\n",
        "\n",
        "In this last exercise we are going to mix our previous time-distributed model with a LSTM layer to create a Hybrid CNN-RNN architecture.\n",
        "\n",
        "Adapt your previous time-distributed model to match the following summary:"
      ]
    },
    {
      "cell_type": "code",
      "execution_count": null,
      "metadata": {
        "id": "fOKtuDkglYe2"
      },
      "outputs": [],
      "source": [
        "# _________________________________________________________________\n",
        "# Layer (type)                 Output Shape              Param #\n",
        "\n",
        "# Time-Dist Conv1D             (None, None, 120, 16)     160\n",
        "# _________________________________________________________________\n",
        "# Time-Dist MaxPool1D 1D       (None, None, 60, 16)      0\n",
        "# _________________________________________________________________\n",
        "# Time-Dist Dropout (0.5)      (None, None, 60, 16)      0\n",
        "# _________________________________________________________________\n",
        "# Time-Dist Conv1D             (None, None, 58, 16)      784\n",
        "# _________________________________________________________________\n",
        "# Time-Dist MaxPool1D          (None, None, 29, 16)      0\n",
        "# _________________________________________________________________\n",
        "# Time-Dist Dropout (0.5)      (None, None, 29, 16)      0\n",
        "# _________________________________________________________________\n",
        "# Time-Dist Conv1D             (None, None, 27, 32)      1568\n",
        "# _________________________________________________________________\n",
        "# Time-Dist Dropout (0.5)      (None, None, 27, 32)      0\n",
        "# _________________________________________________________________\n",
        "# Time-Dist MaxPool1D          (None, None, 14, 32)      0\n",
        "# _________________________________________________________________\n",
        "# Time-Dist Flatten            (None, None, 448)         0\n",
        "# _________________________________________________________________\n",
        "# LSTM  (16 neurons)           (None, None, 16)          29760\n",
        "# _________________________________________________________________\n",
        "# Global Av. Pooling 1D        (None, 16)                0\n",
        "# _________________________________________________________________\n",
        "# Dropout (0.35)               (None, 16)                0\n",
        "# _________________________________________________________________\n",
        "# Dense                        (None, 10)                170\n",
        "\n",
        "# Total params: 32,442\n",
        "# Trainable params: 32,442\n",
        "# Non-trainable params: 0\n",
        "# _________________________________________________________________\n"
      ]
    },
    {
      "cell_type": "markdown",
      "metadata": {},
      "source": [
        "This time, we assign names to the layers in order to recognise them in the summary."
      ]
    },
    {
      "cell_type": "markdown",
      "metadata": {},
      "source": [
        "1. TensorFlow’s TimeDistributed applies a layer independently to each timestep. In PyTorch, we handle this by reshaping and using shared weights.\n",
        "2. Padding is set to 0 to match padding='same' loosely; you may adjust padding manually for exact match.\n",
        "3. The LSTM is followed by GlobalAveragePooling1D, which is implemented as mean over time steps."
      ]
    },
    {
      "cell_type": "code",
      "execution_count": 37,
      "metadata": {},
      "outputs": [],
      "source": [
        "class CNN_LSTM_Hybrid(nn.Module):\n",
        "    def __init__(self, num_classes=10, dropout_cnn=0.5, dropout_lstm=0.35, input_length=128):\n",
        "        super(CNN_LSTM_Hybrid, self).__init__()\n",
        "\n",
        "        self.conv1 = nn.Conv1d(in_channels=1, out_channels=16, kernel_size=9)  # TimeDistributed Conv1D\n",
        "        self.pool1 = nn.MaxPool1d(kernel_size=2, padding=0)\n",
        "\n",
        "        self.conv2 = nn.Conv1d(16, 16, kernel_size=3)\n",
        "        self.pool2 = nn.MaxPool1d(kernel_size=2, padding=0)\n",
        "\n",
        "        self.conv3 = nn.Conv1d(16, 32, kernel_size=3)\n",
        "        self.pool3 = nn.MaxPool1d(kernel_size=2, padding=0)\n",
        "\n",
        "        self.dropout_cnn = nn.Dropout(dropout_cnn)\n",
        "\n",
        "        # Dynamically compute flatten_size\n",
        "        with torch.no_grad():\n",
        "            dummy = torch.zeros(1, 1, input_length)\n",
        "            out = self.pool1(F.relu(self.conv1(dummy)))\n",
        "            out = self.dropout_cnn(out)\n",
        "            out = self.pool2(F.relu(self.conv2(out)))\n",
        "            out = self.dropout_cnn(out)\n",
        "            out = self.pool3(F.relu(self.conv3(out)))\n",
        "            out = self.dropout_cnn(out)\n",
        "            flatten_size = out.shape[1] * out.shape[2]\n",
        "\n",
        "        self.flatten_size = flatten_size\n",
        "\n",
        "        self.lstm = nn.LSTM(input_size=self.flatten_size, hidden_size=16, batch_first=True)\n",
        "\n",
        "        self.dropout_lstm = nn.Dropout(dropout_lstm)\n",
        "        self.fc = nn.Linear(16, num_classes)\n",
        "\n",
        "    def forward(self, x):\n",
        "        batch_size, seq_len, channels, length = x.size()\n",
        "        x = x.view(-1, channels, length)  # (B * T, C, L)\n",
        "\n",
        "        x = self.pool1(F.relu(self.conv1(x)))\n",
        "        x = self.dropout_cnn(x)\n",
        "\n",
        "        x = self.pool2(F.relu(self.conv2(x)))\n",
        "        x = self.dropout_cnn(x)\n",
        "\n",
        "        x = self.pool3(F.relu(self.conv3(x)))\n",
        "        x = self.dropout_cnn(x)\n",
        "\n",
        "        x = x.view(batch_size, seq_len, -1)  # (B, T, features)\n",
        "\n",
        "        lstm_out, _ = self.lstm(x)\n",
        "        lstm_out = torch.mean(lstm_out, dim=1)  # GlobalAveragePooling1D\n",
        "\n",
        "        x = self.dropout_lstm(lstm_out)\n",
        "        x = self.fc(x)\n",
        "        return x"
      ]
    },
    {
      "cell_type": "code",
      "execution_count": 42,
      "metadata": {},
      "outputs": [],
      "source": [
        "def train_model(model, train_loader, val_loader, criterion, optimizer, device, num_epochs=1000, patience=100):\n",
        "    model.to(device)\n",
        "    best_acc = 0\n",
        "    best_epoch = 0\n",
        "    best_model_state = None\n",
        "\n",
        "    history = {\n",
        "        \"train_loss\": [],\n",
        "        \"val_loss\": [],\n",
        "        \"train_acc\": [],\n",
        "        \"val_acc\": []\n",
        "    }\n",
        "\n",
        "    patience_counter = 0\n",
        "\n",
        "    for epoch in range(num_epochs):\n",
        "        model.train()\n",
        "        epoch_loss = 0\n",
        "        correct = 0\n",
        "\n",
        "        for inputs, targets in train_loader:\n",
        "            inputs, targets = inputs.to(device), targets.to(device)\n",
        "\n",
        "            outputs = model(inputs)\n",
        "            loss = criterion(outputs, targets)\n",
        "\n",
        "            optimizer.zero_grad()\n",
        "            loss.backward()\n",
        "            optimizer.step()\n",
        "\n",
        "            epoch_loss += loss.item()\n",
        "            _, predicted = outputs.max(1)\n",
        "            correct += (predicted == targets).sum().item()\n",
        "\n",
        "        train_acc = correct / len(train_loader.dataset)\n",
        "        history[\"train_loss\"].append(epoch_loss)\n",
        "        history[\"train_acc\"].append(train_acc)\n",
        "\n",
        "        # Validation\n",
        "        model.eval()\n",
        "        val_loss = 0\n",
        "        val_correct = 0\n",
        "\n",
        "        with torch.no_grad():\n",
        "            for inputs, targets in val_loader:\n",
        "                inputs, targets = inputs.to(device), targets.to(device)\n",
        "                outputs = model(inputs)\n",
        "                loss = criterion(outputs, targets)\n",
        "                val_loss += loss.item()\n",
        "                _, predicted = outputs.max(1)\n",
        "                val_correct += (predicted == targets).sum().item()\n",
        "\n",
        "        val_acc = val_correct / len(val_loader.dataset)\n",
        "        history[\"val_loss\"].append(val_loss)\n",
        "        history[\"val_acc\"].append(val_acc)\n",
        "\n",
        "        print(f\"Epoch {epoch+1}: Train Acc: {train_acc:.4f}, Val Acc: {val_acc:.4f}\")\n",
        "\n",
        "        if val_acc > best_acc:\n",
        "            best_acc = val_acc\n",
        "            best_epoch = epoch\n",
        "            best_model_state = model.state_dict()\n",
        "            patience_counter = 0\n",
        "        else:\n",
        "            patience_counter += 1\n",
        "            if patience_counter >= patience:\n",
        "                print(f\"Early stopping at epoch {epoch+1}\")\n",
        "                break\n",
        "\n",
        "    print(f\"Best validation accuracy: {best_acc:.4f} at epoch {best_epoch+1}\")\n",
        "    model.load_state_dict(best_model_state)\n",
        "    return model, history\n"
      ]
    },
    {
      "cell_type": "code",
      "execution_count": null,
      "metadata": {},
      "outputs": [],
      "source": [
        "def plot_training_history(history):\n",
        "\n",
        "    epochs = range(1, len(history[\"train_acc\"]) + 1)\n",
        "\n",
        "    plt.figure(figsize=(10, 4))\n",
        "\n",
        "    plt.subplot(1, 2, 1)\n",
        "    plt.plot(epochs, history[\"train_acc\"], label=\"Train Accuracy\")\n",
        "    plt.plot(epochs, history[\"val_acc\"], label=\"Validation Accuracy\")\n",
        "    plt.title(\"Accuracy Over Epochs\")\n",
        "    plt.xlabel(\"Epoch\")\n",
        "    plt.ylabel(\"Accuracy\")\n",
        "    plt.legend()\n",
        "\n",
        "    plt.subplot(1, 2, 2)\n",
        "    plt.plot(epochs, history[\"train_loss\"], label=\"Train Loss\")\n",
        "    plt.plot(epochs, history[\"val_loss\"], label=\"Validation Loss\")\n",
        "    plt.title(\"Loss Over Epochs\")\n",
        "    plt.xlabel(\"Epoch\")\n",
        "    plt.ylabel(\"Loss\")\n",
        "    plt.legend()\n",
        "\n",
        "    plt.tight_layout()\n",
        "    plt.show()\n"
      ]
    },
    {
      "cell_type": "code",
      "execution_count": 44,
      "metadata": {},
      "outputs": [],
      "source": [
        "def evaluate_model(model, dataloader, device):\n",
        "    model.eval()\n",
        "    y_true = []\n",
        "    y_pred = []\n",
        "\n",
        "    with torch.no_grad():\n",
        "        for inputs, targets in dataloader:\n",
        "            inputs = inputs.to(device)\n",
        "            outputs = model(inputs)\n",
        "            preds = torch.argmax(outputs, dim=1).cpu().numpy()\n",
        "            y_pred.extend(preds)\n",
        "            y_true.extend(targets.numpy())\n",
        "\n",
        "    cm = confusion_matrix(y_true, y_pred)\n",
        "    disp = ConfusionMatrixDisplay(confusion_matrix=cm)\n",
        "    disp.plot(cmap=plt.cm.Blues)\n",
        "    plt.title(\"Confusion Matrix\")\n",
        "    plt.show()\n",
        "\n",
        "    accuracy = np.mean(np.array(y_true) == np.array(y_pred))\n",
        "    print(f\"Test accuracy: {accuracy:.4f}\")\n"
      ]
    },
    {
      "cell_type": "code",
      "execution_count": 40,
      "metadata": {},
      "outputs": [],
      "source": [
        "class RSSDataset(Dataset):\n",
        "    def __init__(self, X, y):\n",
        "        self.X = torch.tensor(X, dtype=torch.float32)  # shape: (B, T, C, L)\n",
        "        self.y = torch.tensor(y, dtype=torch.long)\n",
        "\n",
        "    def __len__(self):\n",
        "        return len(self.y)\n",
        "\n",
        "    def __getitem__(self, idx):\n",
        "        return self.X[idx], self.y[idx]"
      ]
    },
    {
      "cell_type": "code",
      "execution_count": 45,
      "metadata": {},
      "outputs": [
        {
          "name": "stdout",
          "output_type": "stream",
          "text": [
            "Epoch 1: Train Acc: 0.0821, Val Acc: 0.2500\n",
            "Epoch 2: Train Acc: 0.1679, Val Acc: 0.3250\n",
            "Epoch 3: Train Acc: 0.2250, Val Acc: 0.3500\n",
            "Epoch 4: Train Acc: 0.2607, Val Acc: 0.3500\n",
            "Epoch 5: Train Acc: 0.2786, Val Acc: 0.4250\n",
            "Epoch 6: Train Acc: 0.3179, Val Acc: 0.4375\n",
            "Epoch 7: Train Acc: 0.3357, Val Acc: 0.3750\n",
            "Epoch 8: Train Acc: 0.3393, Val Acc: 0.4500\n",
            "Epoch 9: Train Acc: 0.3607, Val Acc: 0.4250\n",
            "Epoch 10: Train Acc: 0.3893, Val Acc: 0.4000\n",
            "Epoch 11: Train Acc: 0.4429, Val Acc: 0.4000\n",
            "Epoch 12: Train Acc: 0.3643, Val Acc: 0.4250\n",
            "Epoch 13: Train Acc: 0.3607, Val Acc: 0.4375\n",
            "Epoch 14: Train Acc: 0.4250, Val Acc: 0.4875\n",
            "Epoch 15: Train Acc: 0.4107, Val Acc: 0.4375\n",
            "Epoch 16: Train Acc: 0.4143, Val Acc: 0.4750\n",
            "Epoch 17: Train Acc: 0.4714, Val Acc: 0.5500\n",
            "Epoch 18: Train Acc: 0.4821, Val Acc: 0.5375\n",
            "Epoch 19: Train Acc: 0.4250, Val Acc: 0.4750\n",
            "Epoch 20: Train Acc: 0.4643, Val Acc: 0.4750\n",
            "Epoch 21: Train Acc: 0.5071, Val Acc: 0.5000\n",
            "Epoch 22: Train Acc: 0.4750, Val Acc: 0.5125\n",
            "Epoch 23: Train Acc: 0.4929, Val Acc: 0.5625\n",
            "Epoch 24: Train Acc: 0.5143, Val Acc: 0.5750\n",
            "Epoch 25: Train Acc: 0.5143, Val Acc: 0.5750\n",
            "Epoch 26: Train Acc: 0.5000, Val Acc: 0.4875\n",
            "Epoch 27: Train Acc: 0.4536, Val Acc: 0.4375\n",
            "Epoch 28: Train Acc: 0.4214, Val Acc: 0.4750\n",
            "Epoch 29: Train Acc: 0.4786, Val Acc: 0.5625\n",
            "Epoch 30: Train Acc: 0.5143, Val Acc: 0.5625\n",
            "Epoch 31: Train Acc: 0.4929, Val Acc: 0.5500\n",
            "Epoch 32: Train Acc: 0.5214, Val Acc: 0.5500\n",
            "Epoch 33: Train Acc: 0.5071, Val Acc: 0.5750\n",
            "Epoch 34: Train Acc: 0.5750, Val Acc: 0.5750\n",
            "Epoch 35: Train Acc: 0.5679, Val Acc: 0.5750\n",
            "Epoch 36: Train Acc: 0.5571, Val Acc: 0.5125\n",
            "Epoch 37: Train Acc: 0.5107, Val Acc: 0.5750\n",
            "Epoch 38: Train Acc: 0.5500, Val Acc: 0.5875\n",
            "Epoch 39: Train Acc: 0.5393, Val Acc: 0.5750\n",
            "Epoch 40: Train Acc: 0.5464, Val Acc: 0.5750\n",
            "Epoch 41: Train Acc: 0.5571, Val Acc: 0.5500\n",
            "Epoch 42: Train Acc: 0.5536, Val Acc: 0.5500\n",
            "Epoch 43: Train Acc: 0.5464, Val Acc: 0.4875\n",
            "Epoch 44: Train Acc: 0.5643, Val Acc: 0.5250\n",
            "Epoch 45: Train Acc: 0.5643, Val Acc: 0.5250\n",
            "Epoch 46: Train Acc: 0.5286, Val Acc: 0.5250\n",
            "Epoch 47: Train Acc: 0.5464, Val Acc: 0.5000\n",
            "Epoch 48: Train Acc: 0.5821, Val Acc: 0.5000\n",
            "Epoch 49: Train Acc: 0.5786, Val Acc: 0.5375\n",
            "Epoch 50: Train Acc: 0.6000, Val Acc: 0.5375\n",
            "Epoch 51: Train Acc: 0.5750, Val Acc: 0.5125\n",
            "Epoch 52: Train Acc: 0.6464, Val Acc: 0.5250\n",
            "Epoch 53: Train Acc: 0.6107, Val Acc: 0.5250\n",
            "Epoch 54: Train Acc: 0.5893, Val Acc: 0.5250\n",
            "Epoch 55: Train Acc: 0.6250, Val Acc: 0.5125\n",
            "Epoch 56: Train Acc: 0.6143, Val Acc: 0.5250\n",
            "Epoch 57: Train Acc: 0.6036, Val Acc: 0.4750\n",
            "Epoch 58: Train Acc: 0.6107, Val Acc: 0.5375\n",
            "Epoch 59: Train Acc: 0.6500, Val Acc: 0.5500\n",
            "Epoch 60: Train Acc: 0.6607, Val Acc: 0.5375\n",
            "Epoch 61: Train Acc: 0.5929, Val Acc: 0.5125\n",
            "Epoch 62: Train Acc: 0.6321, Val Acc: 0.5375\n",
            "Epoch 63: Train Acc: 0.6036, Val Acc: 0.5125\n",
            "Epoch 64: Train Acc: 0.6607, Val Acc: 0.5250\n",
            "Epoch 65: Train Acc: 0.6321, Val Acc: 0.5500\n",
            "Epoch 66: Train Acc: 0.6107, Val Acc: 0.5500\n",
            "Epoch 67: Train Acc: 0.6214, Val Acc: 0.5250\n",
            "Epoch 68: Train Acc: 0.6571, Val Acc: 0.4875\n",
            "Epoch 69: Train Acc: 0.6357, Val Acc: 0.5000\n",
            "Epoch 70: Train Acc: 0.6750, Val Acc: 0.5250\n",
            "Epoch 71: Train Acc: 0.6179, Val Acc: 0.5250\n",
            "Epoch 72: Train Acc: 0.6750, Val Acc: 0.5625\n",
            "Epoch 73: Train Acc: 0.6893, Val Acc: 0.5250\n",
            "Epoch 74: Train Acc: 0.6714, Val Acc: 0.5375\n",
            "Epoch 75: Train Acc: 0.6964, Val Acc: 0.5250\n",
            "Epoch 76: Train Acc: 0.6607, Val Acc: 0.5500\n",
            "Epoch 77: Train Acc: 0.6750, Val Acc: 0.5250\n",
            "Epoch 78: Train Acc: 0.6643, Val Acc: 0.5375\n",
            "Epoch 79: Train Acc: 0.6821, Val Acc: 0.5000\n",
            "Epoch 80: Train Acc: 0.6893, Val Acc: 0.5250\n",
            "Epoch 81: Train Acc: 0.6607, Val Acc: 0.5375\n",
            "Epoch 82: Train Acc: 0.7036, Val Acc: 0.5500\n",
            "Epoch 83: Train Acc: 0.6786, Val Acc: 0.5375\n",
            "Epoch 84: Train Acc: 0.6714, Val Acc: 0.5250\n",
            "Epoch 85: Train Acc: 0.7036, Val Acc: 0.5375\n",
            "Epoch 86: Train Acc: 0.6893, Val Acc: 0.4875\n",
            "Epoch 87: Train Acc: 0.6857, Val Acc: 0.5125\n",
            "Epoch 88: Train Acc: 0.7036, Val Acc: 0.5375\n",
            "Epoch 89: Train Acc: 0.6679, Val Acc: 0.5375\n",
            "Epoch 90: Train Acc: 0.7000, Val Acc: 0.5375\n",
            "Epoch 91: Train Acc: 0.7571, Val Acc: 0.5125\n",
            "Epoch 92: Train Acc: 0.6893, Val Acc: 0.4625\n",
            "Epoch 93: Train Acc: 0.6607, Val Acc: 0.5250\n",
            "Epoch 94: Train Acc: 0.6857, Val Acc: 0.5500\n",
            "Epoch 95: Train Acc: 0.6929, Val Acc: 0.5375\n",
            "Epoch 96: Train Acc: 0.7071, Val Acc: 0.5125\n",
            "Epoch 97: Train Acc: 0.7786, Val Acc: 0.5125\n",
            "Epoch 98: Train Acc: 0.7393, Val Acc: 0.5250\n",
            "Epoch 99: Train Acc: 0.7143, Val Acc: 0.5250\n",
            "Epoch 100: Train Acc: 0.7393, Val Acc: 0.5375\n",
            "Epoch 101: Train Acc: 0.7500, Val Acc: 0.5375\n",
            "Epoch 102: Train Acc: 0.7607, Val Acc: 0.5250\n",
            "Epoch 103: Train Acc: 0.6679, Val Acc: 0.5500\n",
            "Epoch 104: Train Acc: 0.6821, Val Acc: 0.5250\n",
            "Epoch 105: Train Acc: 0.7393, Val Acc: 0.5250\n",
            "Epoch 106: Train Acc: 0.7321, Val Acc: 0.5250\n",
            "Epoch 107: Train Acc: 0.6929, Val Acc: 0.5125\n",
            "Epoch 108: Train Acc: 0.7429, Val Acc: 0.5375\n",
            "Epoch 109: Train Acc: 0.7393, Val Acc: 0.5250\n",
            "Epoch 110: Train Acc: 0.7429, Val Acc: 0.5125\n",
            "Epoch 111: Train Acc: 0.7357, Val Acc: 0.4875\n",
            "Epoch 112: Train Acc: 0.7429, Val Acc: 0.5375\n",
            "Epoch 113: Train Acc: 0.7643, Val Acc: 0.5250\n",
            "Epoch 114: Train Acc: 0.7214, Val Acc: 0.5375\n",
            "Epoch 115: Train Acc: 0.7429, Val Acc: 0.5625\n",
            "Epoch 116: Train Acc: 0.7607, Val Acc: 0.5750\n",
            "Epoch 117: Train Acc: 0.7536, Val Acc: 0.5500\n",
            "Epoch 118: Train Acc: 0.7464, Val Acc: 0.5875\n",
            "Epoch 119: Train Acc: 0.7500, Val Acc: 0.5500\n",
            "Epoch 120: Train Acc: 0.6321, Val Acc: 0.5250\n",
            "Epoch 121: Train Acc: 0.6286, Val Acc: 0.5625\n",
            "Epoch 122: Train Acc: 0.6750, Val Acc: 0.5625\n",
            "Epoch 123: Train Acc: 0.7179, Val Acc: 0.5750\n",
            "Epoch 124: Train Acc: 0.7357, Val Acc: 0.5375\n",
            "Epoch 125: Train Acc: 0.7571, Val Acc: 0.5500\n",
            "Epoch 126: Train Acc: 0.7393, Val Acc: 0.6250\n",
            "Epoch 127: Train Acc: 0.7750, Val Acc: 0.6250\n",
            "Epoch 128: Train Acc: 0.7750, Val Acc: 0.6625\n",
            "Epoch 129: Train Acc: 0.7821, Val Acc: 0.6500\n",
            "Epoch 130: Train Acc: 0.7571, Val Acc: 0.6125\n",
            "Epoch 131: Train Acc: 0.7607, Val Acc: 0.6500\n",
            "Epoch 132: Train Acc: 0.7679, Val Acc: 0.6250\n",
            "Epoch 133: Train Acc: 0.7643, Val Acc: 0.6500\n",
            "Epoch 134: Train Acc: 0.7964, Val Acc: 0.6125\n",
            "Epoch 135: Train Acc: 0.8000, Val Acc: 0.6375\n",
            "Epoch 136: Train Acc: 0.7929, Val Acc: 0.6500\n",
            "Epoch 137: Train Acc: 0.7464, Val Acc: 0.5875\n",
            "Epoch 138: Train Acc: 0.7786, Val Acc: 0.6250\n",
            "Epoch 139: Train Acc: 0.7643, Val Acc: 0.6250\n",
            "Epoch 140: Train Acc: 0.7750, Val Acc: 0.6500\n",
            "Epoch 141: Train Acc: 0.7429, Val Acc: 0.6500\n",
            "Epoch 142: Train Acc: 0.7786, Val Acc: 0.6500\n",
            "Epoch 143: Train Acc: 0.7964, Val Acc: 0.6375\n",
            "Epoch 144: Train Acc: 0.7929, Val Acc: 0.6125\n",
            "Epoch 145: Train Acc: 0.7964, Val Acc: 0.5750\n",
            "Epoch 146: Train Acc: 0.7786, Val Acc: 0.6000\n",
            "Epoch 147: Train Acc: 0.7679, Val Acc: 0.6250\n",
            "Epoch 148: Train Acc: 0.7929, Val Acc: 0.6250\n",
            "Epoch 149: Train Acc: 0.7643, Val Acc: 0.6250\n",
            "Epoch 150: Train Acc: 0.8036, Val Acc: 0.6000\n",
            "Epoch 151: Train Acc: 0.8071, Val Acc: 0.6125\n",
            "Epoch 152: Train Acc: 0.7893, Val Acc: 0.6500\n",
            "Epoch 153: Train Acc: 0.8000, Val Acc: 0.6375\n",
            "Epoch 154: Train Acc: 0.7821, Val Acc: 0.6375\n",
            "Epoch 155: Train Acc: 0.8107, Val Acc: 0.6500\n",
            "Epoch 156: Train Acc: 0.8179, Val Acc: 0.6625\n",
            "Epoch 157: Train Acc: 0.7964, Val Acc: 0.6125\n",
            "Epoch 158: Train Acc: 0.7393, Val Acc: 0.6250\n",
            "Epoch 159: Train Acc: 0.8036, Val Acc: 0.6250\n",
            "Epoch 160: Train Acc: 0.7821, Val Acc: 0.6625\n",
            "Epoch 161: Train Acc: 0.7821, Val Acc: 0.6500\n",
            "Epoch 162: Train Acc: 0.8071, Val Acc: 0.6000\n",
            "Epoch 163: Train Acc: 0.7786, Val Acc: 0.6125\n",
            "Epoch 164: Train Acc: 0.8179, Val Acc: 0.5875\n",
            "Epoch 165: Train Acc: 0.8250, Val Acc: 0.6000\n",
            "Epoch 166: Train Acc: 0.7821, Val Acc: 0.6125\n",
            "Epoch 167: Train Acc: 0.8179, Val Acc: 0.6375\n",
            "Epoch 168: Train Acc: 0.8321, Val Acc: 0.6250\n",
            "Epoch 169: Train Acc: 0.8357, Val Acc: 0.6875\n",
            "Epoch 170: Train Acc: 0.8107, Val Acc: 0.6750\n",
            "Epoch 171: Train Acc: 0.8214, Val Acc: 0.6625\n",
            "Epoch 172: Train Acc: 0.8286, Val Acc: 0.6500\n",
            "Epoch 173: Train Acc: 0.8214, Val Acc: 0.6625\n",
            "Epoch 174: Train Acc: 0.8429, Val Acc: 0.6625\n",
            "Epoch 175: Train Acc: 0.8071, Val Acc: 0.5750\n",
            "Epoch 176: Train Acc: 0.7714, Val Acc: 0.6500\n",
            "Epoch 177: Train Acc: 0.7857, Val Acc: 0.6250\n",
            "Epoch 178: Train Acc: 0.7786, Val Acc: 0.6375\n",
            "Epoch 179: Train Acc: 0.7893, Val Acc: 0.6875\n",
            "Epoch 180: Train Acc: 0.8607, Val Acc: 0.7000\n",
            "Epoch 181: Train Acc: 0.8179, Val Acc: 0.6875\n",
            "Epoch 182: Train Acc: 0.8536, Val Acc: 0.6750\n",
            "Epoch 183: Train Acc: 0.8286, Val Acc: 0.6750\n",
            "Epoch 184: Train Acc: 0.8357, Val Acc: 0.6750\n",
            "Epoch 185: Train Acc: 0.7964, Val Acc: 0.6750\n",
            "Epoch 186: Train Acc: 0.8321, Val Acc: 0.6750\n",
            "Epoch 187: Train Acc: 0.8214, Val Acc: 0.6750\n",
            "Epoch 188: Train Acc: 0.8071, Val Acc: 0.7000\n",
            "Epoch 189: Train Acc: 0.8357, Val Acc: 0.6875\n",
            "Epoch 190: Train Acc: 0.8071, Val Acc: 0.6750\n",
            "Epoch 191: Train Acc: 0.8250, Val Acc: 0.6750\n",
            "Epoch 192: Train Acc: 0.8214, Val Acc: 0.6750\n",
            "Epoch 193: Train Acc: 0.8286, Val Acc: 0.7000\n",
            "Epoch 194: Train Acc: 0.8286, Val Acc: 0.6750\n",
            "Epoch 195: Train Acc: 0.8429, Val Acc: 0.6750\n",
            "Epoch 196: Train Acc: 0.8036, Val Acc: 0.6875\n",
            "Epoch 197: Train Acc: 0.8464, Val Acc: 0.7000\n",
            "Epoch 198: Train Acc: 0.8536, Val Acc: 0.7125\n",
            "Epoch 199: Train Acc: 0.8286, Val Acc: 0.6750\n",
            "Epoch 200: Train Acc: 0.8357, Val Acc: 0.6375\n",
            "Epoch 201: Train Acc: 0.8500, Val Acc: 0.6500\n",
            "Epoch 202: Train Acc: 0.8393, Val Acc: 0.6750\n",
            "Epoch 203: Train Acc: 0.8357, Val Acc: 0.6125\n",
            "Epoch 204: Train Acc: 0.8143, Val Acc: 0.6500\n",
            "Epoch 205: Train Acc: 0.8357, Val Acc: 0.6500\n",
            "Epoch 206: Train Acc: 0.8607, Val Acc: 0.6500\n",
            "Epoch 207: Train Acc: 0.8214, Val Acc: 0.6750\n",
            "Epoch 208: Train Acc: 0.8536, Val Acc: 0.6750\n",
            "Epoch 209: Train Acc: 0.8500, Val Acc: 0.7000\n",
            "Epoch 210: Train Acc: 0.8714, Val Acc: 0.6875\n",
            "Epoch 211: Train Acc: 0.8393, Val Acc: 0.6750\n",
            "Epoch 212: Train Acc: 0.8500, Val Acc: 0.6625\n",
            "Epoch 213: Train Acc: 0.8321, Val Acc: 0.6625\n",
            "Epoch 214: Train Acc: 0.8143, Val Acc: 0.7125\n",
            "Epoch 215: Train Acc: 0.8357, Val Acc: 0.7000\n",
            "Epoch 216: Train Acc: 0.8464, Val Acc: 0.6750\n",
            "Epoch 217: Train Acc: 0.8750, Val Acc: 0.6750\n",
            "Epoch 218: Train Acc: 0.8429, Val Acc: 0.7125\n",
            "Epoch 219: Train Acc: 0.8714, Val Acc: 0.7000\n",
            "Epoch 220: Train Acc: 0.8571, Val Acc: 0.6875\n",
            "Epoch 221: Train Acc: 0.8500, Val Acc: 0.7250\n",
            "Epoch 222: Train Acc: 0.8464, Val Acc: 0.7375\n",
            "Epoch 223: Train Acc: 0.8750, Val Acc: 0.7250\n",
            "Epoch 224: Train Acc: 0.8429, Val Acc: 0.7125\n",
            "Epoch 225: Train Acc: 0.8571, Val Acc: 0.7375\n",
            "Epoch 226: Train Acc: 0.8393, Val Acc: 0.7125\n",
            "Epoch 227: Train Acc: 0.8429, Val Acc: 0.6875\n",
            "Epoch 228: Train Acc: 0.8393, Val Acc: 0.6750\n",
            "Epoch 229: Train Acc: 0.8464, Val Acc: 0.6875\n",
            "Epoch 230: Train Acc: 0.8500, Val Acc: 0.6875\n",
            "Epoch 231: Train Acc: 0.8321, Val Acc: 0.6875\n",
            "Epoch 232: Train Acc: 0.8179, Val Acc: 0.7000\n",
            "Epoch 233: Train Acc: 0.8036, Val Acc: 0.6875\n",
            "Epoch 234: Train Acc: 0.8429, Val Acc: 0.6875\n",
            "Epoch 235: Train Acc: 0.8429, Val Acc: 0.6625\n",
            "Epoch 236: Train Acc: 0.8429, Val Acc: 0.6375\n",
            "Epoch 237: Train Acc: 0.8321, Val Acc: 0.6500\n",
            "Epoch 238: Train Acc: 0.8357, Val Acc: 0.7000\n",
            "Epoch 239: Train Acc: 0.8714, Val Acc: 0.6750\n",
            "Epoch 240: Train Acc: 0.8357, Val Acc: 0.7375\n",
            "Epoch 241: Train Acc: 0.8500, Val Acc: 0.7375\n",
            "Epoch 242: Train Acc: 0.8321, Val Acc: 0.7625\n",
            "Epoch 243: Train Acc: 0.8464, Val Acc: 0.7250\n",
            "Epoch 244: Train Acc: 0.8607, Val Acc: 0.7375\n",
            "Epoch 245: Train Acc: 0.8464, Val Acc: 0.7125\n",
            "Epoch 246: Train Acc: 0.8571, Val Acc: 0.7250\n",
            "Epoch 247: Train Acc: 0.8607, Val Acc: 0.7375\n",
            "Epoch 248: Train Acc: 0.8643, Val Acc: 0.7250\n",
            "Epoch 249: Train Acc: 0.8214, Val Acc: 0.7250\n",
            "Epoch 250: Train Acc: 0.8750, Val Acc: 0.7500\n",
            "Epoch 251: Train Acc: 0.8964, Val Acc: 0.7500\n",
            "Epoch 252: Train Acc: 0.8500, Val Acc: 0.7000\n",
            "Epoch 253: Train Acc: 0.8214, Val Acc: 0.6750\n",
            "Epoch 254: Train Acc: 0.8179, Val Acc: 0.6625\n",
            "Epoch 255: Train Acc: 0.8607, Val Acc: 0.6625\n",
            "Epoch 256: Train Acc: 0.8679, Val Acc: 0.7125\n",
            "Epoch 257: Train Acc: 0.8821, Val Acc: 0.7125\n",
            "Epoch 258: Train Acc: 0.8429, Val Acc: 0.7250\n",
            "Epoch 259: Train Acc: 0.8714, Val Acc: 0.7250\n",
            "Epoch 260: Train Acc: 0.8500, Val Acc: 0.7250\n",
            "Epoch 261: Train Acc: 0.8429, Val Acc: 0.7250\n",
            "Epoch 262: Train Acc: 0.8786, Val Acc: 0.7250\n",
            "Epoch 263: Train Acc: 0.8607, Val Acc: 0.7375\n",
            "Epoch 264: Train Acc: 0.8643, Val Acc: 0.7375\n",
            "Epoch 265: Train Acc: 0.8714, Val Acc: 0.7625\n",
            "Epoch 266: Train Acc: 0.8429, Val Acc: 0.7500\n",
            "Epoch 267: Train Acc: 0.8750, Val Acc: 0.7250\n",
            "Epoch 268: Train Acc: 0.8786, Val Acc: 0.7500\n",
            "Epoch 269: Train Acc: 0.8786, Val Acc: 0.7125\n",
            "Epoch 270: Train Acc: 0.8500, Val Acc: 0.7500\n",
            "Epoch 271: Train Acc: 0.8714, Val Acc: 0.7375\n",
            "Epoch 272: Train Acc: 0.8750, Val Acc: 0.7250\n",
            "Epoch 273: Train Acc: 0.8714, Val Acc: 0.7250\n",
            "Epoch 274: Train Acc: 0.9036, Val Acc: 0.7250\n",
            "Epoch 275: Train Acc: 0.8929, Val Acc: 0.7125\n",
            "Epoch 276: Train Acc: 0.8679, Val Acc: 0.7250\n",
            "Epoch 277: Train Acc: 0.8500, Val Acc: 0.7375\n",
            "Epoch 278: Train Acc: 0.8893, Val Acc: 0.7250\n",
            "Epoch 279: Train Acc: 0.8643, Val Acc: 0.7125\n",
            "Epoch 280: Train Acc: 0.8964, Val Acc: 0.6875\n",
            "Epoch 281: Train Acc: 0.8750, Val Acc: 0.7000\n",
            "Epoch 282: Train Acc: 0.8643, Val Acc: 0.7000\n",
            "Epoch 283: Train Acc: 0.8821, Val Acc: 0.7000\n",
            "Epoch 284: Train Acc: 0.8571, Val Acc: 0.7000\n",
            "Epoch 285: Train Acc: 0.8857, Val Acc: 0.7375\n",
            "Epoch 286: Train Acc: 0.8786, Val Acc: 0.7125\n",
            "Epoch 287: Train Acc: 0.8464, Val Acc: 0.7000\n",
            "Epoch 288: Train Acc: 0.8750, Val Acc: 0.7375\n",
            "Epoch 289: Train Acc: 0.9036, Val Acc: 0.7250\n",
            "Epoch 290: Train Acc: 0.8714, Val Acc: 0.7250\n",
            "Epoch 291: Train Acc: 0.8964, Val Acc: 0.7125\n",
            "Epoch 292: Train Acc: 0.8964, Val Acc: 0.7375\n",
            "Epoch 293: Train Acc: 0.8536, Val Acc: 0.7125\n",
            "Epoch 294: Train Acc: 0.8607, Val Acc: 0.7000\n",
            "Epoch 295: Train Acc: 0.8714, Val Acc: 0.7125\n",
            "Epoch 296: Train Acc: 0.9000, Val Acc: 0.7125\n",
            "Epoch 297: Train Acc: 0.8750, Val Acc: 0.7250\n",
            "Epoch 298: Train Acc: 0.8607, Val Acc: 0.7500\n",
            "Epoch 299: Train Acc: 0.8857, Val Acc: 0.7375\n",
            "Epoch 300: Train Acc: 0.8750, Val Acc: 0.7750\n",
            "Epoch 301: Train Acc: 0.9000, Val Acc: 0.7500\n",
            "Epoch 302: Train Acc: 0.8929, Val Acc: 0.7375\n",
            "Epoch 303: Train Acc: 0.8893, Val Acc: 0.7500\n",
            "Epoch 304: Train Acc: 0.8929, Val Acc: 0.7500\n",
            "Epoch 305: Train Acc: 0.8786, Val Acc: 0.7625\n",
            "Epoch 306: Train Acc: 0.8750, Val Acc: 0.7375\n",
            "Epoch 307: Train Acc: 0.8607, Val Acc: 0.7375\n",
            "Epoch 308: Train Acc: 0.8893, Val Acc: 0.7250\n",
            "Epoch 309: Train Acc: 0.8750, Val Acc: 0.7000\n",
            "Epoch 310: Train Acc: 0.8964, Val Acc: 0.7375\n",
            "Epoch 311: Train Acc: 0.8679, Val Acc: 0.7500\n",
            "Epoch 312: Train Acc: 0.9071, Val Acc: 0.7375\n",
            "Epoch 313: Train Acc: 0.8929, Val Acc: 0.7125\n",
            "Epoch 314: Train Acc: 0.8857, Val Acc: 0.7125\n",
            "Epoch 315: Train Acc: 0.8929, Val Acc: 0.7125\n",
            "Epoch 316: Train Acc: 0.8893, Val Acc: 0.7375\n",
            "Epoch 317: Train Acc: 0.8929, Val Acc: 0.7375\n",
            "Epoch 318: Train Acc: 0.8714, Val Acc: 0.6875\n",
            "Epoch 319: Train Acc: 0.8857, Val Acc: 0.7000\n",
            "Epoch 320: Train Acc: 0.8786, Val Acc: 0.7250\n",
            "Epoch 321: Train Acc: 0.9107, Val Acc: 0.7125\n",
            "Epoch 322: Train Acc: 0.9000, Val Acc: 0.7000\n",
            "Epoch 323: Train Acc: 0.8929, Val Acc: 0.7125\n",
            "Epoch 324: Train Acc: 0.8679, Val Acc: 0.7500\n",
            "Epoch 325: Train Acc: 0.9250, Val Acc: 0.7125\n",
            "Epoch 326: Train Acc: 0.8964, Val Acc: 0.7500\n",
            "Epoch 327: Train Acc: 0.8786, Val Acc: 0.7625\n",
            "Epoch 328: Train Acc: 0.9214, Val Acc: 0.7500\n",
            "Epoch 329: Train Acc: 0.9000, Val Acc: 0.7500\n",
            "Epoch 330: Train Acc: 0.8821, Val Acc: 0.7250\n",
            "Epoch 331: Train Acc: 0.8643, Val Acc: 0.6875\n",
            "Epoch 332: Train Acc: 0.8929, Val Acc: 0.6875\n",
            "Epoch 333: Train Acc: 0.8893, Val Acc: 0.6625\n",
            "Epoch 334: Train Acc: 0.8857, Val Acc: 0.7000\n",
            "Epoch 335: Train Acc: 0.9036, Val Acc: 0.7125\n",
            "Epoch 336: Train Acc: 0.9036, Val Acc: 0.7250\n",
            "Epoch 337: Train Acc: 0.8893, Val Acc: 0.7250\n",
            "Epoch 338: Train Acc: 0.8929, Val Acc: 0.7375\n",
            "Epoch 339: Train Acc: 0.9286, Val Acc: 0.7500\n",
            "Epoch 340: Train Acc: 0.8964, Val Acc: 0.7375\n",
            "Epoch 341: Train Acc: 0.9000, Val Acc: 0.7250\n",
            "Epoch 342: Train Acc: 0.8536, Val Acc: 0.7375\n",
            "Epoch 343: Train Acc: 0.8786, Val Acc: 0.7250\n",
            "Epoch 344: Train Acc: 0.8929, Val Acc: 0.7625\n",
            "Epoch 345: Train Acc: 0.8893, Val Acc: 0.7250\n",
            "Epoch 346: Train Acc: 0.8964, Val Acc: 0.7250\n",
            "Epoch 347: Train Acc: 0.8964, Val Acc: 0.7125\n",
            "Epoch 348: Train Acc: 0.8929, Val Acc: 0.7250\n",
            "Epoch 349: Train Acc: 0.9179, Val Acc: 0.7500\n",
            "Epoch 350: Train Acc: 0.9036, Val Acc: 0.7625\n",
            "Epoch 351: Train Acc: 0.9179, Val Acc: 0.7500\n",
            "Epoch 352: Train Acc: 0.8929, Val Acc: 0.7625\n",
            "Epoch 353: Train Acc: 0.9000, Val Acc: 0.7625\n",
            "Epoch 354: Train Acc: 0.9214, Val Acc: 0.7625\n",
            "Epoch 355: Train Acc: 0.9179, Val Acc: 0.7375\n",
            "Epoch 356: Train Acc: 0.9036, Val Acc: 0.7000\n",
            "Epoch 357: Train Acc: 0.9107, Val Acc: 0.7375\n",
            "Epoch 358: Train Acc: 0.8821, Val Acc: 0.7375\n",
            "Epoch 359: Train Acc: 0.8750, Val Acc: 0.7250\n",
            "Epoch 360: Train Acc: 0.9179, Val Acc: 0.7250\n",
            "Epoch 361: Train Acc: 0.8821, Val Acc: 0.7500\n",
            "Epoch 362: Train Acc: 0.8893, Val Acc: 0.7375\n",
            "Epoch 363: Train Acc: 0.8536, Val Acc: 0.7500\n",
            "Epoch 364: Train Acc: 0.8893, Val Acc: 0.7000\n",
            "Epoch 365: Train Acc: 0.8679, Val Acc: 0.7125\n",
            "Epoch 366: Train Acc: 0.9071, Val Acc: 0.7375\n",
            "Epoch 367: Train Acc: 0.9000, Val Acc: 0.7250\n",
            "Epoch 368: Train Acc: 0.9107, Val Acc: 0.7500\n",
            "Epoch 369: Train Acc: 0.9107, Val Acc: 0.7375\n",
            "Epoch 370: Train Acc: 0.8893, Val Acc: 0.7375\n",
            "Epoch 371: Train Acc: 0.9214, Val Acc: 0.7375\n",
            "Epoch 372: Train Acc: 0.9036, Val Acc: 0.7375\n",
            "Epoch 373: Train Acc: 0.9000, Val Acc: 0.7625\n",
            "Epoch 374: Train Acc: 0.9179, Val Acc: 0.7750\n",
            "Epoch 375: Train Acc: 0.9107, Val Acc: 0.7625\n",
            "Epoch 376: Train Acc: 0.9143, Val Acc: 0.7375\n",
            "Epoch 377: Train Acc: 0.9214, Val Acc: 0.7500\n",
            "Epoch 378: Train Acc: 0.9214, Val Acc: 0.7125\n",
            "Epoch 379: Train Acc: 0.8393, Val Acc: 0.7500\n",
            "Epoch 380: Train Acc: 0.9000, Val Acc: 0.7750\n",
            "Epoch 381: Train Acc: 0.8857, Val Acc: 0.7375\n",
            "Epoch 382: Train Acc: 0.9000, Val Acc: 0.7250\n",
            "Epoch 383: Train Acc: 0.9179, Val Acc: 0.7750\n",
            "Epoch 384: Train Acc: 0.9214, Val Acc: 0.7750\n",
            "Epoch 385: Train Acc: 0.9250, Val Acc: 0.7250\n",
            "Epoch 386: Train Acc: 0.8821, Val Acc: 0.7250\n",
            "Epoch 387: Train Acc: 0.9036, Val Acc: 0.7375\n",
            "Epoch 388: Train Acc: 0.9143, Val Acc: 0.7375\n",
            "Epoch 389: Train Acc: 0.9000, Val Acc: 0.7625\n",
            "Epoch 390: Train Acc: 0.9143, Val Acc: 0.8000\n",
            "Epoch 391: Train Acc: 0.9000, Val Acc: 0.7750\n",
            "Epoch 392: Train Acc: 0.9036, Val Acc: 0.7000\n",
            "Epoch 393: Train Acc: 0.9286, Val Acc: 0.7375\n",
            "Epoch 394: Train Acc: 0.9214, Val Acc: 0.7750\n",
            "Epoch 395: Train Acc: 0.9250, Val Acc: 0.7750\n",
            "Epoch 396: Train Acc: 0.9071, Val Acc: 0.7375\n",
            "Epoch 397: Train Acc: 0.8893, Val Acc: 0.7250\n",
            "Epoch 398: Train Acc: 0.9179, Val Acc: 0.7500\n",
            "Epoch 399: Train Acc: 0.8929, Val Acc: 0.7500\n",
            "Epoch 400: Train Acc: 0.9071, Val Acc: 0.7125\n",
            "Epoch 401: Train Acc: 0.9036, Val Acc: 0.7250\n",
            "Epoch 402: Train Acc: 0.8714, Val Acc: 0.7250\n",
            "Epoch 403: Train Acc: 0.9250, Val Acc: 0.7000\n",
            "Epoch 404: Train Acc: 0.8821, Val Acc: 0.7500\n",
            "Epoch 405: Train Acc: 0.9143, Val Acc: 0.6875\n",
            "Epoch 406: Train Acc: 0.9214, Val Acc: 0.7750\n",
            "Epoch 407: Train Acc: 0.9464, Val Acc: 0.7750\n",
            "Epoch 408: Train Acc: 0.8964, Val Acc: 0.7375\n",
            "Epoch 409: Train Acc: 0.9250, Val Acc: 0.7500\n",
            "Epoch 410: Train Acc: 0.9357, Val Acc: 0.7500\n",
            "Epoch 411: Train Acc: 0.9214, Val Acc: 0.8000\n",
            "Epoch 412: Train Acc: 0.9286, Val Acc: 0.7875\n",
            "Epoch 413: Train Acc: 0.9286, Val Acc: 0.7875\n",
            "Epoch 414: Train Acc: 0.9071, Val Acc: 0.7625\n",
            "Epoch 415: Train Acc: 0.9321, Val Acc: 0.7375\n",
            "Epoch 416: Train Acc: 0.8893, Val Acc: 0.7125\n",
            "Epoch 417: Train Acc: 0.8214, Val Acc: 0.6750\n",
            "Epoch 418: Train Acc: 0.8214, Val Acc: 0.7000\n",
            "Epoch 419: Train Acc: 0.8750, Val Acc: 0.7500\n",
            "Epoch 420: Train Acc: 0.8643, Val Acc: 0.7750\n",
            "Epoch 421: Train Acc: 0.8821, Val Acc: 0.7500\n",
            "Epoch 422: Train Acc: 0.9000, Val Acc: 0.7750\n",
            "Epoch 423: Train Acc: 0.9107, Val Acc: 0.7875\n",
            "Epoch 424: Train Acc: 0.9321, Val Acc: 0.8000\n",
            "Epoch 425: Train Acc: 0.8893, Val Acc: 0.7875\n",
            "Epoch 426: Train Acc: 0.9143, Val Acc: 0.8000\n",
            "Epoch 427: Train Acc: 0.9321, Val Acc: 0.7875\n",
            "Epoch 428: Train Acc: 0.8964, Val Acc: 0.7875\n",
            "Epoch 429: Train Acc: 0.9357, Val Acc: 0.7750\n",
            "Epoch 430: Train Acc: 0.9321, Val Acc: 0.7500\n",
            "Epoch 431: Train Acc: 0.9179, Val Acc: 0.7750\n",
            "Epoch 432: Train Acc: 0.9107, Val Acc: 0.7875\n",
            "Epoch 433: Train Acc: 0.9250, Val Acc: 0.7875\n",
            "Epoch 434: Train Acc: 0.9250, Val Acc: 0.7875\n",
            "Epoch 435: Train Acc: 0.9250, Val Acc: 0.7625\n",
            "Epoch 436: Train Acc: 0.9286, Val Acc: 0.7500\n",
            "Epoch 437: Train Acc: 0.9500, Val Acc: 0.7375\n",
            "Epoch 438: Train Acc: 0.9036, Val Acc: 0.7375\n",
            "Epoch 439: Train Acc: 0.9321, Val Acc: 0.7500\n",
            "Epoch 440: Train Acc: 0.9143, Val Acc: 0.7375\n",
            "Epoch 441: Train Acc: 0.9214, Val Acc: 0.7500\n",
            "Epoch 442: Train Acc: 0.9179, Val Acc: 0.7500\n",
            "Epoch 443: Train Acc: 0.9250, Val Acc: 0.7625\n",
            "Epoch 444: Train Acc: 0.9250, Val Acc: 0.7750\n",
            "Epoch 445: Train Acc: 0.9214, Val Acc: 0.7250\n",
            "Epoch 446: Train Acc: 0.9214, Val Acc: 0.7750\n",
            "Epoch 447: Train Acc: 0.9143, Val Acc: 0.7625\n",
            "Epoch 448: Train Acc: 0.9393, Val Acc: 0.7625\n",
            "Epoch 449: Train Acc: 0.9286, Val Acc: 0.7625\n",
            "Epoch 450: Train Acc: 0.9071, Val Acc: 0.7625\n",
            "Epoch 451: Train Acc: 0.9143, Val Acc: 0.7500\n",
            "Epoch 452: Train Acc: 0.9143, Val Acc: 0.7875\n",
            "Epoch 453: Train Acc: 0.9071, Val Acc: 0.8000\n",
            "Epoch 454: Train Acc: 0.9250, Val Acc: 0.7875\n",
            "Epoch 455: Train Acc: 0.9179, Val Acc: 0.7625\n",
            "Epoch 456: Train Acc: 0.9179, Val Acc: 0.7500\n",
            "Epoch 457: Train Acc: 0.9286, Val Acc: 0.7750\n",
            "Epoch 458: Train Acc: 0.9214, Val Acc: 0.7750\n",
            "Epoch 459: Train Acc: 0.9464, Val Acc: 0.7625\n",
            "Epoch 460: Train Acc: 0.9357, Val Acc: 0.7625\n",
            "Epoch 461: Train Acc: 0.9393, Val Acc: 0.7750\n",
            "Epoch 462: Train Acc: 0.9321, Val Acc: 0.7750\n",
            "Epoch 463: Train Acc: 0.9357, Val Acc: 0.7750\n",
            "Epoch 464: Train Acc: 0.9286, Val Acc: 0.7875\n",
            "Epoch 465: Train Acc: 0.9321, Val Acc: 0.7625\n",
            "Epoch 466: Train Acc: 0.9357, Val Acc: 0.7500\n",
            "Epoch 467: Train Acc: 0.9321, Val Acc: 0.7500\n",
            "Epoch 468: Train Acc: 0.9321, Val Acc: 0.7500\n",
            "Epoch 469: Train Acc: 0.9464, Val Acc: 0.7750\n",
            "Epoch 470: Train Acc: 0.9393, Val Acc: 0.8000\n",
            "Epoch 471: Train Acc: 0.9357, Val Acc: 0.7750\n",
            "Epoch 472: Train Acc: 0.9429, Val Acc: 0.7750\n",
            "Epoch 473: Train Acc: 0.9250, Val Acc: 0.7750\n",
            "Epoch 474: Train Acc: 0.9143, Val Acc: 0.7875\n",
            "Epoch 475: Train Acc: 0.9357, Val Acc: 0.7875\n",
            "Epoch 476: Train Acc: 0.9500, Val Acc: 0.7750\n",
            "Epoch 477: Train Acc: 0.9286, Val Acc: 0.7375\n",
            "Epoch 478: Train Acc: 0.9286, Val Acc: 0.7375\n",
            "Epoch 479: Train Acc: 0.9393, Val Acc: 0.7625\n",
            "Epoch 480: Train Acc: 0.9250, Val Acc: 0.7750\n",
            "Epoch 481: Train Acc: 0.9250, Val Acc: 0.7250\n",
            "Epoch 482: Train Acc: 0.9500, Val Acc: 0.7500\n",
            "Epoch 483: Train Acc: 0.9214, Val Acc: 0.7625\n",
            "Epoch 484: Train Acc: 0.9500, Val Acc: 0.7875\n",
            "Epoch 485: Train Acc: 0.9214, Val Acc: 0.7750\n",
            "Epoch 486: Train Acc: 0.9143, Val Acc: 0.7875\n",
            "Epoch 487: Train Acc: 0.9357, Val Acc: 0.7875\n",
            "Epoch 488: Train Acc: 0.9286, Val Acc: 0.7875\n",
            "Epoch 489: Train Acc: 0.9214, Val Acc: 0.8000\n",
            "Epoch 490: Train Acc: 0.9357, Val Acc: 0.7750\n",
            "Early stopping at epoch 490\n",
            "Best validation accuracy: 0.8000 at epoch 390\n"
          ]
        },
        {
          "data": {
            "image/png": "[encoded data removed]",
            "text/plain": [
              "<Figure size 1000x400 with 2 Axes>"
            ]
          },
          "metadata": {},
          "output_type": "display_data"
        },
        {
          "data": {
            "image/png": "[encoded data removed]",
            "text/plain": [
              "<Figure size 640x480 with 2 Axes>"
            ]
          },
          "metadata": {},
          "output_type": "display_data"
        },
        {
          "name": "stdout",
          "output_type": "stream",
          "text": [
            "Test accuracy: 0.7500\n"
          ]
        }
      ],
      "source": [
        "# Creazione dei dataset\n",
        "train_dataset = RSSDataset(X_train_rss, y_train)\n",
        "val_dataset = RSSDataset(X_val_rss, y_val)\n",
        "test_dataset = RSSDataset(X_test_rss, y_test)\n",
        "\n",
        "train_loader = DataLoader(train_dataset, batch_size=32, shuffle=True)\n",
        "val_loader = DataLoader(val_dataset, batch_size=32)\n",
        "test_loader = DataLoader(test_dataset, batch_size=32)\n",
        "\n",
        "model = CNN_LSTM_Hybrid()\n",
        "criterion = nn.CrossEntropyLoss()\n",
        "optimizer = torch.optim.Adam(model.parameters(), lr=0.001)\n",
        "\n",
        "model, history = train_model(model, train_loader, val_loader, criterion, optimizer, device)\n",
        "\n",
        "plot_training_history(history)\n",
        "evaluate_model(model, test_loader, device)\n",
        "\n"
      ]
    }
  ],
  "metadata": {
    "accelerator": "GPU",
    "colab": {
      "provenance": []
    },
    "kernelspec": {
      "display_name": "MAECap",
      "language": "python",
      "name": "python3"
    },
    "language_info": {
      "codemirror_mode": {
        "name": "ipython",
        "version": 3
      },
      "file_extension": ".py",
      "mimetype": "text/x-python",
      "name": "python",
      "nbconvert_exporter": "python",
      "pygments_lexer": "ipython3",
      "version": "3.11.8"
    }
  },
  "nbformat": 4,
  "nbformat_minor": 0
}
